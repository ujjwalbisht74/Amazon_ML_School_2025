{
 "cells": [
  {
   "cell_type": "markdown",
   "id": "34feed17",
   "metadata": {},
   "source": [
    "\n",
    "## Numpy"
   ]
  },
  {
   "cell_type": "code",
   "execution_count": 12,
   "id": "b3dd5295",
   "metadata": {},
   "outputs": [
    {
     "name": "stdout",
     "output_type": "stream",
     "text": [
      "Array :  [1 2 3 4 6]\n",
      "\n",
      "ele at index 2 :  3\n",
      "ele at last index :  6\n",
      "\n",
      "Slice 2 to 4:  [2 3 4]\n"
     ]
    }
   ],
   "source": [
    "# how  to import \n",
    "import numpy as np\n",
    "\n",
    "\n",
    "#  why to use numpy over lists \n",
    "\n",
    "#  - lists are excellent for genral purpose.  \n",
    "# but numpy provides improve speed , reduce memory consumption for large data.\n",
    "\n",
    "\n",
    "# how to initialize an array using np \n",
    "arr1 = np.array([1,2,3,4,6])\n",
    "print(\"Array : \",arr1)\n",
    "\n",
    "\n",
    "\n",
    "# you can access elements using indexing \n",
    "print(\"\\nele at index 2 : \",arr1[2])  # positive ordering from left to right goes from 0  to size-1;\n",
    "print(\"ele at last index : \",arr1[-1]) # negative ordering to access elements from right to left from -1 to -size-1;\n",
    "\n",
    "\n",
    "\n",
    "# slicing in array for access specific window elements;\n",
    "\n",
    "# eg :  accessing  from 2 element to 4 th element\n",
    "print(\"\\nSlice 2 to 4: \",arr1[1:4])\n"
   ]
  },
  {
   "cell_type": "markdown",
   "id": "b811522e",
   "metadata": {},
   "source": [
    "## Attributes of Array "
   ]
  },
  {
   "cell_type": "code",
   "execution_count": 38,
   "id": "eae2ad3a",
   "metadata": {},
   "outputs": [
    {
     "name": "stdout",
     "output_type": "stream",
     "text": [
      "Dimensions : 1\n",
      "Dimensions : 2\n",
      "\n",
      "Shape of 1d array :  (8,)\n",
      "Shape of 2d array :  (2, 4)\n",
      "\n",
      "Size of array :  8   8\n",
      "\n",
      "Type of array elments :  int32\n"
     ]
    }
   ],
   "source": [
    "array1 = np.array([1,2,3,4,5,6,7,8])\n",
    "array_2d = np.array([[1,2,3,4],[5,6,7,8]])\n",
    "\n",
    "# to get dimensions \n",
    "print(\"Dimensions :\",array1.ndim)\n",
    "print(\"Dimensions :\",array_2d.ndim)\n",
    "\n",
    "\n",
    "\n",
    "# to get number of rows and columns\n",
    "print(\"\\nShape of 1d array : \",array1.shape)\n",
    "print(\"Shape of 2d array : \",array_2d.shape)\n",
    "\n",
    "\n",
    "# to get size of array\n",
    "print(\"\\nSize of array : \",array1.size, \" \", array_2d.size)\n",
    "\n",
    "# to get type of elements\n",
    "\n",
    "print(\"\\nType of array elments : \",array1.dtype)"
   ]
  },
  {
   "cell_type": "markdown",
   "id": "4c206bf9",
   "metadata": {},
   "source": [
    "## Creation of arrays"
   ]
  },
  {
   "cell_type": "code",
   "execution_count": 42,
   "id": "000e2e5d",
   "metadata": {},
   "outputs": [
    {
     "name": "stdout",
     "output_type": "stream",
     "text": [
      "[0. 0. 0. 0. 0. 0. 0. 0. 0. 0.]\n",
      "\n",
      " [[0. 0. 0. 0.]\n",
      " [0. 0. 0. 0.]]\n",
      "\n",
      " [1. 1. 1. 1.]\n",
      "\n",
      " [[1. 1. 1. 1.]\n",
      " [1. 1. 1. 1.]\n",
      " [1. 1. 1. 1.]]\n",
      "\n",
      " [0 1 2 3 4 5]\n",
      "\n",
      " [2 5 8]\n",
      "\n",
      " [1.         1.11111111 1.22222222 1.33333333 1.44444444 1.55555556\n",
      " 1.66666667 1.77777778 1.88888889 2.        ]\n"
     ]
    }
   ],
   "source": [
    "# arrays of zeroes\n",
    "\n",
    "# constructing 1d array\n",
    "print(np.zeros(10))\n",
    "\n",
    "# constructing 2d arrays\n",
    "print(\"\\n\",np.zeros((2,4)))\n",
    "\n",
    "\n",
    "\n",
    "# arrays of ones\n",
    "\n",
    "#construct 1d array\n",
    "print(\"\\n\",np.ones(4))\n",
    "\n",
    "# construct 2d array\n",
    "print(\"\\n\",np.ones((3,4)))\n",
    "\n",
    "\n",
    "\n",
    "# create elements for range\n",
    "print(\"\\n\",np.arange(6))\n",
    "\n",
    "# or you can alter the range\n",
    "print(\"\\n\",np.arange(2,10,3))\n",
    "\n",
    "\n",
    "# if you have fixed range and wants numerb of elements from that range \n",
    "# suppose i want 10 elments between 1 and 2.\n",
    "print('\\n',np.linspace(1,2,10))"
   ]
  },
  {
   "cell_type": "markdown",
   "id": "dcd04a62",
   "metadata": {},
   "source": [
    "## Adding , Removing , Soting and other operations"
   ]
  },
  {
   "cell_type": "code",
   "execution_count": 61,
   "id": "ed2e59c1",
   "metadata": {},
   "outputs": [
    {
     "name": "stdout",
     "output_type": "stream",
     "text": [
      "arr1  :  [1 2 3 4 5] \n",
      "\n",
      "arr2  :  [2 3 7 5 9] \n",
      "\n",
      "Concatenation :  [1 2 3 4 5 2 3 7 5 9]\n",
      "\n",
      "Reshaping array : \n",
      " [[ 0  1  2  3]\n",
      " [ 4  5  6  7]\n",
      " [ 8  9 10 11]]\n"
     ]
    }
   ],
   "source": [
    "# to add two different arrays\n",
    "arr1 = np.array([1,2,3,4,5])\n",
    "print(\"arr1  : \",arr1, \"\\n\");\n",
    "\n",
    "arr2 = np.array([2,3,7,5,9])\n",
    "print(\"arr2  : \",arr2,\"\\n\");\n",
    "\n",
    "print(\"Concatenation : \",np.concatenate((arr1,arr2),axis = 0) );\n",
    "\n",
    "\n",
    "# we can also reshape array : \n",
    "temp = np.arange(12)\n",
    "new_array = temp.reshape(3,4)\n",
    "print(\"\\nReshaping array : \\n\",new_array)"
   ]
  },
  {
   "cell_type": "code",
   "execution_count": 72,
   "id": "cfb3b7bb",
   "metadata": {},
   "outputs": [
    {
     "name": "stdout",
     "output_type": "stream",
     "text": [
      "[11 12 13 14 15 16 17 18 19]\n",
      "[ 0  2  4  6  8 10 12 14 16 18]\n",
      "[ 0  3  6  9 12 15 18]\n",
      "[4 5 6 7 8 9]\n",
      "[0 1 0 1 0 1 0 1 0 1 0 1 0 1 0 1 0 1 0 1]\n"
     ]
    }
   ],
   "source": [
    "arr = np.arange(20)\n",
    "\n",
    "# perform operations like\n",
    "\n",
    "print(arr[arr > 10])\n",
    "\n",
    "print(arr[arr % 2 == 0])\n",
    "\n",
    "print(arr[arr % 3 == 0])\n",
    "\n",
    "print(arr[(arr > 3) & (arr < 10)])\n",
    "\n",
    "# check conditions\n",
    "\n",
    "print(arr & 1)"
   ]
  },
  {
   "cell_type": "markdown",
   "id": "5a69bd83",
   "metadata": {},
   "source": [
    "## Stacking Vertically and Horizontally"
   ]
  },
  {
   "cell_type": "code",
   "execution_count": 86,
   "id": "d14e3107",
   "metadata": {},
   "outputs": [
    {
     "name": "stdout",
     "output_type": "stream",
     "text": [
      "Stacking Vertically : \n",
      " [[ 1  2  3  4  5]\n",
      " [ 6  7  8  9 10]]\n",
      "stacking Horizontally : \n",
      " [ 1  2  3  4  5  6  7  8  9 10]\n",
      "\n",
      "Addition : [ 7  9 11 13 15]\n",
      "Subtraction : [-5 -5 -5 -5 -5]\n",
      "Multiplication [ 6 14 24 36 50]\n",
      "scalar operation [0.5 1.  1.5 2.  2.5]\n",
      "\n",
      " [0.16666667 0.28571429 0.375      0.44444444 0.5       ]\n"
     ]
    }
   ],
   "source": [
    "a = np.array([1,2,3,4,5])\n",
    "b = np.array([6,7,8,9,10])\n",
    "\n",
    "# stacking vertically\n",
    "print(\"Stacking Vertically : \\n\",np.vstack((a,b)));\n",
    "\n",
    "# stacking horizontally\n",
    "print(\"stacking Horizontally : \\n\",np.hstack((a,b)));\n",
    "\n",
    "# adding multiple arrays by simple operators\n",
    "\n",
    "print(\"\\nAddition :\",a + b)\n",
    "print(\"Subtraction :\",a-b)\n",
    "print(\"Multiplication\",a*b)\n",
    "print(\"scalar operation\",a/2)\n",
    "\n",
    "\n",
    "print(\"\\n\",a/b)"
   ]
  },
  {
   "cell_type": "markdown",
   "id": "1cc1502b",
   "metadata": {},
   "source": [
    "## Most useful functions"
   ]
  },
  {
   "cell_type": "code",
   "execution_count": 101,
   "id": "a82f91aa",
   "metadata": {},
   "outputs": [
    {
     "name": "stdout",
     "output_type": "stream",
     "text": [
      "[[ 0  1  2  3  4]\n",
      " [ 5  6  7  8  9]\n",
      " [10 11 12 13 14]\n",
      " [15 16 17 18 19]\n",
      " [20 21 22 23 24]]\n",
      "\n",
      "Max ele : 24\n",
      "Min ele : 0\n",
      "Sum :  300\n",
      "Get uniques :  [ 0  1  2  3  4  5  6  7  8  9 10 11 12 13 14 15 16 17 18 19 20 21 22 23\n",
      " 24]\n",
      "\n",
      "Transpose : [[ 0  5 10 15 20]\n",
      " [ 1  6 11 16 21]\n",
      " [ 2  7 12 17 22]\n",
      " [ 3  8 13 18 23]\n",
      " [ 4  9 14 19 24]]\n",
      "\n",
      " Reverse :  [[24 23 22 21 20]\n",
      " [19 18 17 16 15]\n",
      " [14 13 12 11 10]\n",
      " [ 9  8  7  6  5]\n",
      " [ 4  3  2  1  0]]\n",
      "\n",
      " Squaring : [[  0   1   4   9  16]\n",
      " [ 25  36  49  64  81]\n",
      " [100 121 144 169 196]\n",
      " [225 256 289 324 361]\n",
      " [400 441 484 529 576]]\n"
     ]
    }
   ],
   "source": [
    "temp = np.arange(25).reshape((5,5))\n",
    "\n",
    "print(temp)\n",
    "\n",
    "print(\"\\nMax ele :\",np.max(temp))\n",
    "print(\"Min ele :\",np.min(temp))\n",
    "print(\"Sum : \",np.sum(temp))\n",
    "print(\"Get uniques : \",np.unique(temp))\n",
    "\n",
    "\n",
    "print(\"\\nTranspose :\",temp.transpose())\n",
    "print(\"\\n Reverse : \",np.flip(temp))\n",
    "print(\"\\n Squaring :\",np.square(temp))\n",
    "w"
   ]
  }
 ],
 "metadata": {
  "kernelspec": {
   "display_name": "Python 3 (ipykernel)",
   "language": "python",
   "name": "python3"
  },
  "language_info": {
   "codemirror_mode": {
    "name": "ipython",
    "version": 3
   },
   "file_extension": ".py",
   "mimetype": "text/x-python",
   "name": "python",
   "nbconvert_exporter": "python",
   "pygments_lexer": "ipython3",
   "version": "3.9.12"
  }
 },
 "nbformat": 4,
 "nbformat_minor": 5
}
